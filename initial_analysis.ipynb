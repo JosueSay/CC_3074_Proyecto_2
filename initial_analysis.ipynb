{
 "cells": [
  {
   "cell_type": "markdown",
   "metadata": {},
   "source": [
    "# Modelos de Regresión Lineal"
   ]
  },
  {
   "cell_type": "markdown",
   "metadata": {},
   "source": [
    "## Análisis Exploratorio de Datos "
   ]
  },
  {
   "cell_type": "markdown",
   "metadata": {},
   "source": [
    "### Carga del dataset"
   ]
  },
  {
   "cell_type": "code",
   "execution_count": 42,
   "metadata": {},
   "outputs": [
    {
     "name": "stdout",
     "output_type": "stream",
     "text": [
      "   MSSubClass MSZoning  LotFrontage  LotArea Street Alley LotShape  \\\n",
      "0          20       RL         70.0     8400   Pave   NaN      Reg   \n",
      "1          60       RL         59.0     7837   Pave   NaN      IR1   \n",
      "2          30       RL         67.0     8777   Pave   NaN      Reg   \n",
      "3          50       RL         60.0     7200   Pave   NaN      Reg   \n",
      "4          50       RL         50.0     5000   Pave  Pave      Reg   \n",
      "\n",
      "  LandContour Utilities LotConfig  ... PoolArea PoolQC  Fence MiscFeature  \\\n",
      "0         Lvl    AllPub    Inside  ...        0    NaN    NaN         NaN   \n",
      "1         Lvl    AllPub    Inside  ...        0    NaN    NaN         NaN   \n",
      "2         Lvl    AllPub    Inside  ...        0    NaN  MnPrv         NaN   \n",
      "3         Lvl    AllPub    Corner  ...        0    NaN  MnPrv         NaN   \n",
      "4         Lvl    AllPub    Inside  ...        0    NaN    NaN         NaN   \n",
      "\n",
      "  MiscVal MoSold  YrSold  SaleType  SaleCondition  SalePrice  \n",
      "0       0      6    2010        WD         Normal     145000  \n",
      "1       0      5    2009        WD         Normal     178000  \n",
      "2       0      5    2008        WD         Normal      85000  \n",
      "3       0      6    2007        WD         Normal     175000  \n",
      "4       0      5    2010        WD         Normal     127000  \n",
      "\n",
      "[5 rows x 80 columns]\n"
     ]
    }
   ],
   "source": [
    "import pandas as pd\n",
    "import numpy as np\n",
    "from sklearn.preprocessing import StandardScaler, MinMaxScaler, LabelEncoder\n",
    "import matplotlib.pyplot as plt\n",
    "import seaborn as sns\n",
    "train_file_path = \"data/train_set.csv\"\n",
    "df_train = pd.read_csv(train_file_path)\n",
    "print(df_train.head())"
   ]
  },
  {
   "cell_type": "code",
   "execution_count": 43,
   "metadata": {},
   "outputs": [
    {
     "data": {
      "text/html": [
       "<div>\n",
       "<style scoped>\n",
       "    .dataframe tbody tr th:only-of-type {\n",
       "        vertical-align: middle;\n",
       "    }\n",
       "\n",
       "    .dataframe tbody tr th {\n",
       "        vertical-align: top;\n",
       "    }\n",
       "\n",
       "    .dataframe thead th {\n",
       "        text-align: right;\n",
       "    }\n",
       "</style>\n",
       "<table border=\"1\" class=\"dataframe\">\n",
       "  <thead>\n",
       "    <tr style=\"text-align: right;\">\n",
       "      <th></th>\n",
       "      <th>MSSubClass</th>\n",
       "      <th>MSZoning</th>\n",
       "      <th>LotFrontage</th>\n",
       "      <th>LotArea</th>\n",
       "      <th>Street</th>\n",
       "      <th>Alley</th>\n",
       "      <th>LotShape</th>\n",
       "      <th>LandContour</th>\n",
       "      <th>Utilities</th>\n",
       "      <th>LotConfig</th>\n",
       "      <th>...</th>\n",
       "      <th>PoolArea</th>\n",
       "      <th>PoolQC</th>\n",
       "      <th>Fence</th>\n",
       "      <th>MiscFeature</th>\n",
       "      <th>MiscVal</th>\n",
       "      <th>MoSold</th>\n",
       "      <th>YrSold</th>\n",
       "      <th>SaleType</th>\n",
       "      <th>SaleCondition</th>\n",
       "      <th>SalePrice</th>\n",
       "    </tr>\n",
       "  </thead>\n",
       "  <tbody>\n",
       "    <tr>\n",
       "      <th>0</th>\n",
       "      <td>20</td>\n",
       "      <td>RL</td>\n",
       "      <td>70.0</td>\n",
       "      <td>8400</td>\n",
       "      <td>Pave</td>\n",
       "      <td>NaN</td>\n",
       "      <td>Reg</td>\n",
       "      <td>Lvl</td>\n",
       "      <td>AllPub</td>\n",
       "      <td>Inside</td>\n",
       "      <td>...</td>\n",
       "      <td>0</td>\n",
       "      <td>NaN</td>\n",
       "      <td>NaN</td>\n",
       "      <td>NaN</td>\n",
       "      <td>0</td>\n",
       "      <td>6</td>\n",
       "      <td>2010</td>\n",
       "      <td>WD</td>\n",
       "      <td>Normal</td>\n",
       "      <td>145000</td>\n",
       "    </tr>\n",
       "    <tr>\n",
       "      <th>1</th>\n",
       "      <td>60</td>\n",
       "      <td>RL</td>\n",
       "      <td>59.0</td>\n",
       "      <td>7837</td>\n",
       "      <td>Pave</td>\n",
       "      <td>NaN</td>\n",
       "      <td>IR1</td>\n",
       "      <td>Lvl</td>\n",
       "      <td>AllPub</td>\n",
       "      <td>Inside</td>\n",
       "      <td>...</td>\n",
       "      <td>0</td>\n",
       "      <td>NaN</td>\n",
       "      <td>NaN</td>\n",
       "      <td>NaN</td>\n",
       "      <td>0</td>\n",
       "      <td>5</td>\n",
       "      <td>2009</td>\n",
       "      <td>WD</td>\n",
       "      <td>Normal</td>\n",
       "      <td>178000</td>\n",
       "    </tr>\n",
       "    <tr>\n",
       "      <th>2</th>\n",
       "      <td>30</td>\n",
       "      <td>RL</td>\n",
       "      <td>67.0</td>\n",
       "      <td>8777</td>\n",
       "      <td>Pave</td>\n",
       "      <td>NaN</td>\n",
       "      <td>Reg</td>\n",
       "      <td>Lvl</td>\n",
       "      <td>AllPub</td>\n",
       "      <td>Inside</td>\n",
       "      <td>...</td>\n",
       "      <td>0</td>\n",
       "      <td>NaN</td>\n",
       "      <td>MnPrv</td>\n",
       "      <td>NaN</td>\n",
       "      <td>0</td>\n",
       "      <td>5</td>\n",
       "      <td>2008</td>\n",
       "      <td>WD</td>\n",
       "      <td>Normal</td>\n",
       "      <td>85000</td>\n",
       "    </tr>\n",
       "    <tr>\n",
       "      <th>3</th>\n",
       "      <td>50</td>\n",
       "      <td>RL</td>\n",
       "      <td>60.0</td>\n",
       "      <td>7200</td>\n",
       "      <td>Pave</td>\n",
       "      <td>NaN</td>\n",
       "      <td>Reg</td>\n",
       "      <td>Lvl</td>\n",
       "      <td>AllPub</td>\n",
       "      <td>Corner</td>\n",
       "      <td>...</td>\n",
       "      <td>0</td>\n",
       "      <td>NaN</td>\n",
       "      <td>MnPrv</td>\n",
       "      <td>NaN</td>\n",
       "      <td>0</td>\n",
       "      <td>6</td>\n",
       "      <td>2007</td>\n",
       "      <td>WD</td>\n",
       "      <td>Normal</td>\n",
       "      <td>175000</td>\n",
       "    </tr>\n",
       "    <tr>\n",
       "      <th>4</th>\n",
       "      <td>50</td>\n",
       "      <td>RL</td>\n",
       "      <td>50.0</td>\n",
       "      <td>5000</td>\n",
       "      <td>Pave</td>\n",
       "      <td>Pave</td>\n",
       "      <td>Reg</td>\n",
       "      <td>Lvl</td>\n",
       "      <td>AllPub</td>\n",
       "      <td>Inside</td>\n",
       "      <td>...</td>\n",
       "      <td>0</td>\n",
       "      <td>NaN</td>\n",
       "      <td>NaN</td>\n",
       "      <td>NaN</td>\n",
       "      <td>0</td>\n",
       "      <td>5</td>\n",
       "      <td>2010</td>\n",
       "      <td>WD</td>\n",
       "      <td>Normal</td>\n",
       "      <td>127000</td>\n",
       "    </tr>\n",
       "  </tbody>\n",
       "</table>\n",
       "<p>5 rows × 80 columns</p>\n",
       "</div>"
      ],
      "text/plain": [
       "   MSSubClass MSZoning  LotFrontage  LotArea Street Alley LotShape  \\\n",
       "0          20       RL         70.0     8400   Pave   NaN      Reg   \n",
       "1          60       RL         59.0     7837   Pave   NaN      IR1   \n",
       "2          30       RL         67.0     8777   Pave   NaN      Reg   \n",
       "3          50       RL         60.0     7200   Pave   NaN      Reg   \n",
       "4          50       RL         50.0     5000   Pave  Pave      Reg   \n",
       "\n",
       "  LandContour Utilities LotConfig  ... PoolArea PoolQC  Fence MiscFeature  \\\n",
       "0         Lvl    AllPub    Inside  ...        0    NaN    NaN         NaN   \n",
       "1         Lvl    AllPub    Inside  ...        0    NaN    NaN         NaN   \n",
       "2         Lvl    AllPub    Inside  ...        0    NaN  MnPrv         NaN   \n",
       "3         Lvl    AllPub    Corner  ...        0    NaN  MnPrv         NaN   \n",
       "4         Lvl    AllPub    Inside  ...        0    NaN    NaN         NaN   \n",
       "\n",
       "  MiscVal MoSold  YrSold  SaleType  SaleCondition  SalePrice  \n",
       "0       0      6    2010        WD         Normal     145000  \n",
       "1       0      5    2009        WD         Normal     178000  \n",
       "2       0      5    2008        WD         Normal      85000  \n",
       "3       0      6    2007        WD         Normal     175000  \n",
       "4       0      5    2010        WD         Normal     127000  \n",
       "\n",
       "[5 rows x 80 columns]"
      ]
     },
     "execution_count": 43,
     "metadata": {},
     "output_type": "execute_result"
    }
   ],
   "source": [
    "df_train.head()"
   ]
  },
  {
   "cell_type": "markdown",
   "metadata": {},
   "source": [
    "### Limpieza de datos"
   ]
  },
  {
   "cell_type": "markdown",
   "metadata": {},
   "source": [
    "Manejo de Valores Nulos - Se  obtienen la cantidad de valores nulos y el porcentaje para determinar que datos se pueden eliminar y como manejar aquellos que representan una gran porcion de los datos"
   ]
  },
  {
   "cell_type": "code",
   "execution_count": 44,
   "metadata": {},
   "outputs": [],
   "source": [
    "def relevant_null_value_percentage(df, umbral):\n",
    "    na_not_missing = [\n",
    "        \"Alley\", \"BsmtQual\", \"BsmtCond\", \"BsmtExposure\", \"BsmtFinType1\", \"BsmtFinType2\",\n",
    "        \"FireplaceQu\", \"GarageType\", \"GarageFinish\", \"GarageQual\", \"GarageCond\",\n",
    "        \"PoolQC\", \"Fence\", \"MiscFeature\"\n",
    "    ]\n",
    "    df_cleaning = df.isnull().sum().reset_index()\n",
    "    df_cleaning.columns = [\"Columnas\", \"Valores Nulos\"]\n",
    "    df_cleaning[\"Porcentaje de Valores Nulos\"] = (df_cleaning[\"Valores Nulos\"] / len(df)) * 100\n",
    "    df_cleaning[\"Tipo de Nulo\"] = df_cleaning[\"Columnas\"].apply(\n",
    "        lambda x: \"No Aplica\" if x in na_not_missing else \"Dato Faltante\"\n",
    "    )\n",
    "    df_cleaning = df_cleaning[df_cleaning[\"Porcentaje de Valores Nulos\"] > umbral]\n",
    "    df_cleaning = df_cleaning.sort_values(by=\"Porcentaje de Valores Nulos\", ascending=False)\n",
    "\n",
    "    return df_cleaning"
   ]
  },
  {
   "cell_type": "code",
   "execution_count": 45,
   "metadata": {},
   "outputs": [
    {
     "name": "stdout",
     "output_type": "stream",
     "text": [
      "        Columnas  Valores Nulos  Porcentaje de Valores Nulos   Tipo de Nulo\n",
      "71        PoolQC           1162                    99.486301      No Aplica\n",
      "73   MiscFeature           1122                    96.061644      No Aplica\n",
      "5          Alley           1094                    93.664384      No Aplica\n",
      "72         Fence            935                    80.051370      No Aplica\n",
      "24    MasVnrType            683                    58.476027  Dato Faltante\n",
      "56   FireplaceQu            547                    46.832192      No Aplica\n",
      "2    LotFrontage            217                    18.578767  Dato Faltante\n",
      "57    GarageType             64                     5.479452      No Aplica\n",
      "58   GarageYrBlt             64                     5.479452  Dato Faltante\n",
      "59  GarageFinish             64                     5.479452      No Aplica\n",
      "62    GarageQual             64                     5.479452      No Aplica\n",
      "63    GarageCond             64                     5.479452      No Aplica\n",
      "30      BsmtCond             28                     2.397260      No Aplica\n",
      "32  BsmtFinType1             28                     2.397260      No Aplica\n",
      "31  BsmtExposure             28                     2.397260      No Aplica\n",
      "29      BsmtQual             28                     2.397260      No Aplica\n",
      "34  BsmtFinType2             28                     2.397260      No Aplica\n",
      "25    MasVnrArea              6                     0.513699  Dato Faltante\n",
      "41    Electrical              1                     0.085616  Dato Faltante\n"
     ]
    }
   ],
   "source": [
    "df_nulos = relevant_null_value_percentage(df_train, 0)\n",
    "print(df_nulos)"
   ]
  },
  {
   "cell_type": "markdown",
   "metadata": {},
   "source": [
    "Para los columnas que presenten un porcentaje a 5% se deben trabajar los datos y para aquellas con un porcentaje menor a 5% se pueden eliminar esas filas con los datos nulos."
   ]
  },
  {
   "cell_type": "code",
   "execution_count": 46,
   "metadata": {},
   "outputs": [],
   "source": [
    "df_train_cleaned = df_train.copy()\n",
    "# 1. Manejo de valores en MasVnrType con la moda (valor más frecuente)\n",
    "mode_masvnrtype = df_train_cleaned[\"MasVnrType\"].mode()[0]  # Obtener la moda\n",
    "df_train_cleaned.loc[:, \"MasVnrType\"] = df_train_cleaned[\"MasVnrType\"].fillna(mode_masvnrtype)\n",
    "\n",
    "# 2. Manejo de  valores en LotFrontage con la mediana por Neighborhood\n",
    "df_train_cleaned.loc[:, \"LotFrontage\"] = df_train_cleaned.groupby(\"Neighborhood\")[\"LotFrontage\"].transform(\n",
    "    lambda x: x.fillna(x.median())\n",
    ")\n",
    "\n",
    "# 3. Imputar valores en GarageYrBlt con YearBuilt\n",
    "df_train_cleaned.loc[:, \"GarageYrBlt\"] = df_train_cleaned[\"GarageYrBlt\"].fillna(df_train_cleaned[\"YearBuilt\"])\n",
    "\n",
    "missing_after_imputation = df_train_cleaned[[\"MasVnrType\", \"LotFrontage\", \"GarageYrBlt\"]].isnull().sum()"
   ]
  },
  {
   "cell_type": "code",
   "execution_count": 47,
   "metadata": {},
   "outputs": [
    {
     "name": "stdout",
     "output_type": "stream",
     "text": [
      "Valores nulos después de la imputación:\n",
      "MasVnrType     0\n",
      "LotFrontage    0\n",
      "GarageYrBlt    0\n",
      "dtype: int64\n"
     ]
    }
   ],
   "source": [
    "print(\"Valores nulos después de la imputación:\")\n",
    "print(missing_after_imputation)"
   ]
  },
  {
   "cell_type": "markdown",
   "metadata": {},
   "source": [
    "Eliminar filas con valores null (menores al 5%)"
   ]
  },
  {
   "cell_type": "code",
   "execution_count": 48,
   "metadata": {},
   "outputs": [],
   "source": [
    "df_train_cleaned = df_train_cleaned.dropna()\n",
    "missing_after_drop = df_train_cleaned.isnull().sum()"
   ]
  },
  {
   "cell_type": "code",
   "execution_count": 49,
   "metadata": {},
   "outputs": [
    {
     "name": "stdout",
     "output_type": "stream",
     "text": [
      "Valores nulos después de eliminar filas con datos faltantes:\n",
      "MSSubClass       0\n",
      "MSZoning         0\n",
      "LotFrontage      0\n",
      "LotArea          0\n",
      "Street           0\n",
      "                ..\n",
      "MoSold           0\n",
      "YrSold           0\n",
      "SaleType         0\n",
      "SaleCondition    0\n",
      "SalePrice        0\n",
      "Length: 80, dtype: int64\n"
     ]
    }
   ],
   "source": [
    "print(\"Valores nulos después de eliminar filas con datos faltantes:\")\n",
    "print(missing_after_drop)"
   ]
  },
  {
   "cell_type": "markdown",
   "metadata": {},
   "source": []
  },
  {
   "cell_type": "code",
   "execution_count": null,
   "metadata": {},
   "outputs": [
    {
     "data": {
      "text/plain": [
       "{'One-Hot Encoding Aplicado a': ['MSZoning',\n",
       "  'Street',\n",
       "  'Alley',\n",
       "  'LotShape',\n",
       "  'LandContour',\n",
       "  'Utilities',\n",
       "  'LotConfig',\n",
       "  'LandSlope',\n",
       "  'Neighborhood',\n",
       "  'Condition1',\n",
       "  'Condition2',\n",
       "  'BldgType',\n",
       "  'HouseStyle',\n",
       "  'RoofStyle',\n",
       "  'RoofMatl',\n",
       "  'Exterior1st',\n",
       "  'Exterior2nd',\n",
       "  'MasVnrType',\n",
       "  'Foundation',\n",
       "  'BsmtExposure',\n",
       "  'BsmtFinType1',\n",
       "  'BsmtFinType2',\n",
       "  'Heating',\n",
       "  'CentralAir',\n",
       "  'Electrical',\n",
       "  'Functional',\n",
       "  'GarageType',\n",
       "  'GarageFinish',\n",
       "  'PavedDrive',\n",
       "  'Fence',\n",
       "  'MiscFeature',\n",
       "  'SaleType',\n",
       "  'SaleCondition'],\n",
       " 'Total de Columnas Después de Transformación': 252}"
      ]
     },
     "execution_count": 53,
     "metadata": {},
     "output_type": "execute_result"
    }
   ],
   "source": [
    "# Cargar el conjunto de datos nuevamente para asegurarnos de tener la versión original\n",
    "train_file_path = \"/mnt/data/train_set.csv\"\n",
    "df_train = pd.read_csv(train_file_path)\n",
    "\n",
    "# 1. Identificar variables categóricas\n",
    "categorical_vars = df_train.select_dtypes(include=['object']).columns\n",
    "\n",
    "# 2. Decidir el tipo de transformación\n",
    "# Label Encoding para variables con orden lógico\n",
    "label_enc_vars = ['ExterQual', 'ExterCond', 'BsmtQual', 'BsmtCond', 'HeatingQC', \n",
    "                  'KitchenQual', 'FireplaceQu', 'GarageQual', 'GarageCond', 'PoolQC']\n",
    "\n",
    "# One-Hot Encoding para el resto\n",
    "one_hot_enc_vars = [col for col in categorical_vars if col not in label_enc_vars]\n",
    "\n",
    "# 3. Aplicar Label Encoding\n",
    "label_encoders = {}\n",
    "for col in label_enc_vars:\n",
    "    le = LabelEncoder()\n",
    "    # Convertimos a string para evitar problemas con NaN\n",
    "    df_train[col] = le.fit_transform(df_train[col].astype(str))\n",
    "    label_encoders[col] = le\n",
    "\n",
    "# 4. Aplicar One-Hot Encoding\n",
    "df_train_one_hot_encoded = pd.get_dummies(df_train[one_hot_enc_vars])\n",
    "\n",
    "# 5. Unir los resultados al conjunto de datos original\n",
    "df_train_transformed = pd.concat([df_train.drop(columns=one_hot_enc_vars), df_train_one_hot_encoded], axis=1)\n",
    "\n",
    "# Mostrar resultados\n",
    "{\n",
    "    \n",
    "    \"Total de Columnas Antes de Transformación\": len(df_train.columns),\n",
    "    \"Total de Columnas Después de Transformación\": df_train_transformed.shape[1],\n",
    "    \"Ejemplo de Columnas con One-Hot Encoding\": df_train_one_hot_encoded.columns[:5].tolist()\n",
    "}\n"
   ]
  },
  {
   "cell_type": "markdown",
   "metadata": {},
   "source": [
    "### Análisis descriptivo"
   ]
  },
  {
   "cell_type": "code",
   "execution_count": null,
   "metadata": {},
   "outputs": [],
   "source": []
  },
  {
   "cell_type": "code",
   "execution_count": null,
   "metadata": {},
   "outputs": [],
   "source": []
  },
  {
   "cell_type": "markdown",
   "metadata": {},
   "source": [
    "### Visualización de datos"
   ]
  },
  {
   "cell_type": "code",
   "execution_count": null,
   "metadata": {},
   "outputs": [],
   "source": []
  },
  {
   "cell_type": "code",
   "execution_count": null,
   "metadata": {},
   "outputs": [],
   "source": []
  },
  {
   "cell_type": "markdown",
   "metadata": {},
   "source": [
    "### Pruebas de normalidad y correlación"
   ]
  },
  {
   "cell_type": "code",
   "execution_count": null,
   "metadata": {},
   "outputs": [],
   "source": []
  },
  {
   "cell_type": "code",
   "execution_count": null,
   "metadata": {},
   "outputs": [],
   "source": []
  },
  {
   "cell_type": "markdown",
   "metadata": {},
   "source": [
    "### Análisis de agrupamiento"
   ]
  },
  {
   "cell_type": "code",
   "execution_count": null,
   "metadata": {},
   "outputs": [],
   "source": []
  },
  {
   "cell_type": "code",
   "execution_count": null,
   "metadata": {},
   "outputs": [],
   "source": []
  },
  {
   "cell_type": "markdown",
   "metadata": {},
   "source": [
    "## Ingeniería de Características"
   ]
  },
  {
   "cell_type": "markdown",
   "metadata": {},
   "source": [
    "### Selección de variables relevantes"
   ]
  },
  {
   "cell_type": "code",
   "execution_count": null,
   "metadata": {},
   "outputs": [],
   "source": []
  },
  {
   "cell_type": "code",
   "execution_count": null,
   "metadata": {},
   "outputs": [],
   "source": []
  },
  {
   "cell_type": "markdown",
   "metadata": {},
   "source": [
    "### Creación de nuevas características"
   ]
  },
  {
   "cell_type": "code",
   "execution_count": null,
   "metadata": {},
   "outputs": [],
   "source": []
  },
  {
   "cell_type": "code",
   "execution_count": null,
   "metadata": {},
   "outputs": [],
   "source": []
  },
  {
   "cell_type": "markdown",
   "metadata": {},
   "source": [
    "### Análisis de multicolinealidad"
   ]
  },
  {
   "cell_type": "code",
   "execution_count": null,
   "metadata": {},
   "outputs": [],
   "source": []
  },
  {
   "cell_type": "code",
   "execution_count": null,
   "metadata": {},
   "outputs": [],
   "source": []
  }
 ],
 "metadata": {
  "kernelspec": {
   "display_name": "Python 3",
   "language": "python",
   "name": "python3"
  },
  "language_info": {
   "codemirror_mode": {
    "name": "ipython",
    "version": 3
   },
   "file_extension": ".py",
   "mimetype": "text/x-python",
   "name": "python",
   "nbconvert_exporter": "python",
   "pygments_lexer": "ipython3",
   "version": "3.13.2"
  }
 },
 "nbformat": 4,
 "nbformat_minor": 2
}
